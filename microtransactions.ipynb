{
 "cells": [
  {
   "cell_type": "markdown",
   "metadata": {},
   "source": [
    "# Project: Hypothesis Testing for Microtransactions\n",
    "Brian is a Product Manager at FarmBurg, a company that makes a farming simulation social network game.  In the FarmBurg game, you can plow, plant, and harvest different crops.\n",
    "\n",
    "Today, you will be acting as Brian's data analyst for an A/B Test that he has been conducting."
   ]
  },
  {
   "cell_type": "markdown",
   "metadata": {},
   "source": [
    "## Part 1: Testing for Significant Difference"
   ]
  },
  {
   "cell_type": "markdown",
   "metadata": {},
   "source": [
    "Start by importing the following modules that you'll need for this project:\n",
    "- `pandas` as `pd`"
   ]
  },
  {
   "cell_type": "code",
   "execution_count": 1,
   "metadata": {},
   "outputs": [],
   "source": [
    "import pandas as pd"
   ]
  },
  {
   "cell_type": "markdown",
   "metadata": {},
   "source": [
    "Brian tells you that he ran an A/B test with three different groups: A, B, and C.  You're kind of busy today, so you don't ask too many questions about the differences between A, B, and C.  Maybe they were shown three different versions of an ad.  Who cares?\n",
    "\n",
    "(HINT: you will care later)\n",
    "\n",
    "Brian gives you a CSV of results called `clicks.csv`.  It has the following columns:\n",
    "- `user_id`: a unique id for each visitor to the FarmBerg site\n",
    "- `ab_test_group`: either `A`, `B`, or `C` depending on which group the visitor was assigned to\n",
    "- `click_day`: only filled in *if* the user clicked on a link to purchase\n",
    "\n",
    "Load `clicks.csv` into the variable `df`."
   ]
  },
  {
   "cell_type": "code",
   "execution_count": 2,
   "metadata": {},
   "outputs": [
    {
     "name": "stdout",
     "output_type": "stream",
     "text": [
      "                                   user_id group  click_day\n",
      "0     8e27bf9a-5b6e-41ed-801a-a59979c0ca98     A        NaN\n",
      "1     eb89e6f0-e682-4f79-99b1-161cc1c096f1     A        NaN\n",
      "2     7119106a-7a95-417b-8c4c-092c12ee5ef7     A        NaN\n",
      "3     e53781ff-ff7a-4fcd-af1a-adba02b2b954     A        NaN\n",
      "4     02d48cf1-1ae6-40b3-9d8b-8208884a0904     A   Saturday\n",
      "5     5a3ca2d6-25d5-4909-8f07-519f71ee55e8     A        NaN\n",
      "6     6b929341-1336-4c34-965b-92e368ab160b     A        NaN\n",
      "7     90b0a07b-e20e-4e0a-872e-5cc303c5676b     A        NaN\n",
      "8     4b16c922-b2ab-48a8-885c-713ebf0ae159     A        NaN\n",
      "9     5eb5fc03-fbda-4149-b909-4f5fbc6b152f     A        NaN\n",
      "10    389ff492-4635-4535-8e42-685f771fccb1     A        NaN\n",
      "11    1d25885b-56c7-4fdd-bee8-6348c1386bf0     A   Thursday\n",
      "12    4546807b-8211-4e7b-94cf-4f9c879e284b     A        NaN\n",
      "13    c447f7f4-a419-41c6-af31-0a17f7943816     A        NaN\n",
      "14    e75754d9-9342-4f1f-84e1-75c340ef78b2     A        NaN\n",
      "15    0d38042c-2296-4526-b21c-6b00805688d4     A     Friday\n",
      "16    a54eeb29-1406-4032-bc2c-7d8166e4641a     A        NaN\n",
      "17    b54a48e0-ae75-44db-8421-d40cfa5cc3a7     A        NaN\n",
      "18    1a2ad0c4-3cb0-4346-9f77-6e42082a7433     A  Wednesday\n",
      "19    512ab2bb-0c2e-46a1-9f34-40b3d2ecee1a     A        NaN\n",
      "20    43d00167-768d-4488-ba32-650c8ab05a06     A        NaN\n",
      "21    0d28dceb-c377-40f1-a238-a0ef1c525dd4     A    Tuesday\n",
      "22    e66d263e-6746-4489-8ef6-8ab32c09a8c6     A        NaN\n",
      "23    5a795c56-8047-4546-a00c-2fa5fae5474e     A        NaN\n",
      "24    1cd795a0-c6a3-489d-ba09-7ad9b6d90a98     A   Thursday\n",
      "25    8e65d46a-a61d-465c-b2a7-c534bec6219b     A        NaN\n",
      "26    d2d00ec5-48ac-4813-9b03-cc6da1354bd7     A        NaN\n",
      "27    02f09387-0949-489e-bc49-508e4ae5a0be     A     Monday\n",
      "28    e395b3fb-46af-4e1c-b8d4-a1c4f490b46e     A        NaN\n",
      "29    c9499054-f8ac-4973-869f-14704694a1a9     A        NaN\n",
      "...                                    ...   ...        ...\n",
      "4968  563462e3-f22c-453d-a645-b1cf37ac0316     C        NaN\n",
      "4969  25d3b1df-8580-4533-947d-66ba9cba20c0     C        NaN\n",
      "4970  ebd8e192-0a13-49df-a4c4-b9c482f48e6f     C        NaN\n",
      "4971  945d3c4a-b624-45a7-b5de-81a7088d6b74     C        NaN\n",
      "4972  a5073a0b-8251-4f45-92fb-97c2bc9a053f     C        NaN\n",
      "4973  2c786780-b7e2-45df-9a0c-1938c484f328     C        NaN\n",
      "4974  cf624881-75f8-438f-88a8-43ba537bfe3b     C        NaN\n",
      "4975  9a16d458-e196-4d8c-8060-bc79d7336553     C        NaN\n",
      "4976  b9b920ac-9a88-47c6-8882-00cca3ee40b1     C        NaN\n",
      "4977  b2eaae1d-2505-47b9-a24a-23f6c63f93a6     C        NaN\n",
      "4978  71b32b6b-cb84-42ae-8062-ca0722bcfd0a     C        NaN\n",
      "4979  bce930f6-e65c-4c5e-98b8-6fc78ddf3e87     C        NaN\n",
      "4980  3df3ebd6-14ca-4132-98a6-68b226d3c2e5     C        NaN\n",
      "4981  1d673f80-c1c5-46e0-bc52-5dd8a133147d     C        NaN\n",
      "4982  7da81a79-5a41-4e98-92ba-f00637b58bcc     C        NaN\n",
      "4983  bd00f045-7f1c-4b56-8515-d574b6958898     C        NaN\n",
      "4984  4970134b-b71d-4e0f-87ff-7dc2827183ed     C        NaN\n",
      "4985  f1cf55e6-3baa-49ea-8465-1d713e707e03     C        NaN\n",
      "4986  b8c43823-b5a6-445d-879f-990f2cf647f5     C        NaN\n",
      "4987  8ef57a7e-2f04-4b04-9082-f16b929cabec     C        NaN\n",
      "4988  ff2fb6ed-e14e-430f-bc0e-4d0fb15c142c     C        NaN\n",
      "4989  0277cd1b-fa11-498a-94e5-ce8184eafc63     C     Monday\n",
      "4990  be6899b2-4d90-4145-8803-66ed2cd3a758     C        NaN\n",
      "4991  67e5ac93-6039-4fc6-9417-1af997e9ade7     C        NaN\n",
      "4992  68335145-ad33-4dec-bde8-b3fd4511d76c     C        NaN\n",
      "4993  1f6fd5aa-f664-4e7a-aa97-112572085691     C        NaN\n",
      "4994  ad76e16a-b28f-4eab-9271-cb505e50fbcf     C        NaN\n",
      "4995  c9254ed4-e47f-4c31-b541-67afb66ce273     C        NaN\n",
      "4996  e734362b-42b9-4ec5-81e9-3b7ab326478e     C        NaN\n",
      "4997  36b4f7d6-a150-4db0-a34b-82afe767b584     C        NaN\n",
      "\n",
      "[4998 rows x 3 columns]\n"
     ]
    }
   ],
   "source": [
    "df = pd.read_csv(\"clicks.csv\")\n",
    "print (df)"
   ]
  },
  {
   "cell_type": "markdown",
   "metadata": {},
   "source": [
    "Define a new column called `is_purchase` which is `Purchase` if `click_day` is not `None` and `No Purchase` if `click_day` is `None`.  This will tell us if each visitor clicked on the Purchase link."
   ]
  },
  {
   "cell_type": "code",
   "execution_count": 3,
   "metadata": {},
   "outputs": [
    {
     "name": "stdout",
     "output_type": "stream",
     "text": [
      "0       No Purchase\n",
      "1       No Purchase\n",
      "2       No Purchase\n",
      "3       No Purchase\n",
      "4          Purchase\n",
      "5       No Purchase\n",
      "6       No Purchase\n",
      "7       No Purchase\n",
      "8       No Purchase\n",
      "9       No Purchase\n",
      "10      No Purchase\n",
      "11         Purchase\n",
      "12      No Purchase\n",
      "13      No Purchase\n",
      "14      No Purchase\n",
      "15         Purchase\n",
      "16      No Purchase\n",
      "17      No Purchase\n",
      "18         Purchase\n",
      "19      No Purchase\n",
      "20      No Purchase\n",
      "21         Purchase\n",
      "22      No Purchase\n",
      "23      No Purchase\n",
      "24         Purchase\n",
      "25      No Purchase\n",
      "26      No Purchase\n",
      "27         Purchase\n",
      "28      No Purchase\n",
      "29      No Purchase\n",
      "           ...     \n",
      "4968    No Purchase\n",
      "4969    No Purchase\n",
      "4970    No Purchase\n",
      "4971    No Purchase\n",
      "4972    No Purchase\n",
      "4973    No Purchase\n",
      "4974    No Purchase\n",
      "4975    No Purchase\n",
      "4976    No Purchase\n",
      "4977    No Purchase\n",
      "4978    No Purchase\n",
      "4979    No Purchase\n",
      "4980    No Purchase\n",
      "4981    No Purchase\n",
      "4982    No Purchase\n",
      "4983    No Purchase\n",
      "4984    No Purchase\n",
      "4985    No Purchase\n",
      "4986    No Purchase\n",
      "4987    No Purchase\n",
      "4988    No Purchase\n",
      "4989       Purchase\n",
      "4990    No Purchase\n",
      "4991    No Purchase\n",
      "4992    No Purchase\n",
      "4993    No Purchase\n",
      "4994    No Purchase\n",
      "4995    No Purchase\n",
      "4996    No Purchase\n",
      "4997    No Purchase\n",
      "Name: is_purchase, Length: 4998, dtype: object\n"
     ]
    }
   ],
   "source": [
    "#list for new column \"is_purchase\"\n",
    "is_purchase = []\n",
    "\n",
    "#Traverse through column \"click day\" \n",
    "for row in df['click_day']:\n",
    "    #Testing if row is \"nan\"\n",
    "    if (type(row)==float): \n",
    "        is_purchase.append(\"No Purchase\")\n",
    "    else:\n",
    "        is_purchase.append(\"Purchase\")\n",
    "\n",
    "#printing list\n",
    "#print(is_purchase)\n",
    "\n",
    "df[\"is_purchase\"] = is_purchase\n",
    "\n",
    "#printing column\n",
    "print(df[\"is_purchase\"])"
   ]
  },
  {
   "cell_type": "markdown",
   "metadata": {
    "collapsed": true
   },
   "source": [
    "We want to count the number of users who made a purchase from each group.  Use `groupby` to count the number of `Purchase` and `No Purchase` from each `group`.  Save your answer to the variable `purchase_counts`.\n",
    "\n",
    "**Hint**: Group by `group` and `is_purchase` and the function `count` on the column `user_id`."
   ]
  },
  {
   "cell_type": "code",
   "execution_count": 12,
   "metadata": {},
   "outputs": [],
   "source": [
    "purchase_counts = df.groupby([\"group\", \"is_purchase\"])['user_id'].count()"
   ]
  },
  {
   "cell_type": "markdown",
   "metadata": {
    "collapsed": true
   },
   "source": [
    "This data is *categorical* and there are *more than 2* conditions, so we'll want to use a chi-squared test to see if there is a significant difference between the three conditions.\n",
    "\n",
    "Start by filling in the contingency table below with the correct values:\n",
    "```py\n",
    "contingency = [[groupA_purchases, groupA_not_purchases],\n",
    "               [groupB_purchases, groupB_not_purchases],\n",
    "               [groupC_purchases, groupC_not_purchases]]\n",
    "```"
   ]
  },
  {
   "cell_type": "code",
   "execution_count": 13,
   "metadata": {},
   "outputs": [
    {
     "name": "stdout",
     "output_type": "stream",
     "text": [
      "[[316, 1350], [183, 1483], [83, 1583]]\n"
     ]
    }
   ],
   "source": [
    "contingency = [[purchase_counts['A']['Purchase'], purchase_counts['A']['No Purchase']],\n",
    "               [purchase_counts['B']['Purchase'], purchase_counts['B']['No Purchase']],\n",
    "               [purchase_counts['C']['Purchase'], purchase_counts['C']['No Purchase']]]\n",
    "print (contingency)"
   ]
  },
  {
   "cell_type": "markdown",
   "metadata": {},
   "source": [
    "Now import the function `chi2_contingency` from `scipy.stats` and perform the chi-squared test.\n",
    "\n",
    "Recall that the *p-value* is the second output of `chi2_contingency`."
   ]
  },
  {
   "cell_type": "code",
   "execution_count": 10,
   "metadata": {},
   "outputs": [],
   "source": [
    "from  scipy.stats  import chi2_contingency"
   ]
  },
  {
   "cell_type": "code",
   "execution_count": 14,
   "metadata": {},
   "outputs": [
    {
     "data": {
      "text/plain": [
       "(159.41952879874498, 2.4126213546684264e-35, 2, array([[ 194., 1472.],\n",
       "        [ 194., 1472.],\n",
       "        [ 194., 1472.]]))"
      ]
     },
     "execution_count": 14,
     "metadata": {},
     "output_type": "execute_result"
    }
   ],
   "source": [
    "chi2_contingency(contingency)"
   ]
  },
  {
   "cell_type": "markdown",
   "metadata": {},
   "source": [
    "Great! It looks like a significantly greater portion of users from Group A made a purchase."
   ]
  },
  {
   "cell_type": "markdown",
   "metadata": {},
   "source": [
    "## Part 2: Testing for Exceeding a Goal\n",
    "\n",
    "Your day is a little less busy than you expected, so you decide to ask Brian about his test.\n",
    "\n",
    "**You**: Hey Brian! What was that test you were running anyway?\n",
    "\n",
    "**Brian**: It was awesome! We are trying to get users to purchase a small FarmBurg upgrade package.  It's called a microtransaction.  We're not sure how much to charge for it, so we tested three different price points: \\$0.99, \\$1.99, and \\$4.99.  It looks like significantly more people bought the upgrade package for \\$0.99, so I guess that's what we'll charge.\n",
    "\n",
    "**You**: Oh no! I should have asked you this before we did that chi-squared test.  I don't think that this was the right test at all.  It's true that more people wanted purchase the upgrade at \\$0.99; you probably expected that.  What we really want to know is if each price point allows us to make enough money that we can exceed some target goal.  Brian, how much do you think it cost to build this feature?\n",
    "\n",
    "**Brian**: Hmm.  I guess that we need to generate a minimum of $1000 per week in order to justify this project.\n",
    "\n",
    "**You**: We have some work to do!"
   ]
  },
  {
   "cell_type": "markdown",
   "metadata": {},
   "source": [
    "How many visitors came to the site this week?\n",
    "\n",
    "Hint: Look at the length of `df`."
   ]
  },
  {
   "cell_type": "code",
   "execution_count": 15,
   "metadata": {},
   "outputs": [
    {
     "name": "stdout",
     "output_type": "stream",
     "text": [
      "4998\n"
     ]
    }
   ],
   "source": [
    "num_visitors = len(df)\n",
    "print (num_visitors)"
   ]
  },
  {
   "cell_type": "markdown",
   "metadata": {},
   "source": [
    "Let's assume that this is how many visitors we generally get each week.  Given that, calculate the percent of visitors who would need to purchase the upgrade package at each price point (\\$0.99, \\$1.99, \\$4.99) in order to generate \\$1000 per week."
   ]
  },
  {
   "cell_type": "code",
   "execution_count": 16,
   "metadata": {},
   "outputs": [
    {
     "name": "stdout",
     "output_type": "stream",
     "text": [
      "1010.1010101010102\n",
      "0.20210104243717691\n"
     ]
    }
   ],
   "source": [
    "# Calculate the number of people who would need to purchase a $0.99 upgrade in order to generate $1000.\n",
    "# Then divide by the number of people who visit the site each week.\n",
    "goal_price = 1000\n",
    "\n",
    "num_people_a = goal_price/.99\n",
    "percent_visitors_a = num_people_a/num_visitors\n",
    "\n",
    "print(num_people_a)\n",
    "print(percent_visitors_a)"
   ]
  },
  {
   "cell_type": "code",
   "execution_count": 18,
   "metadata": {},
   "outputs": [
    {
     "name": "stdout",
     "output_type": "stream",
     "text": [
      "502.51256281407035\n",
      "0.10054272965467594\n"
     ]
    }
   ],
   "source": [
    "# Calculate the number of people who would need to purchase a $1.99 upgrade in order to generate $1000.\n",
    "# Then divide by the number of people who visit the site each week.\n",
    "\n",
    "num_people_b = goal_price/1.99\n",
    "percent_visitors_b = num_people_b/num_visitors\n",
    "\n",
    "print(num_people_b)\n",
    "print(percent_visitors_b)"
   ]
  },
  {
   "cell_type": "code",
   "execution_count": 20,
   "metadata": {},
   "outputs": [
    {
     "name": "stdout",
     "output_type": "stream",
     "text": [
      "200.40080160320642\n",
      "0.040096198800161346\n"
     ]
    }
   ],
   "source": [
    "# Calculate the number of people who would need to purchase a $1.99 upgrade in order to generate $1000.\n",
    "# Then divide by the number of people who visit the site each week.\n",
    "\n",
    "num_people_c = goal_price/4.99\n",
    "percent_visitors_c = num_people_c/num_visitors\n",
    "\n",
    "print(num_people_c)\n",
    "print(percent_visitors_c)"
   ]
  },
  {
   "cell_type": "markdown",
   "metadata": {},
   "source": [
    "Note that you need a smaller percentage of purchases for higher price points.\n",
    "\n",
    "Now, for each group, perform a binomial test using `binom_test` from `scipy.stats`.\n",
    "- `x` will be the number of purchases for that group\n",
    "- `n` will be the total number of visitors assigned to that group\n",
    "- `p` will be the target percent of purchases for that price point (calculated above)\n",
    "\n",
    "Recall that:\n",
    "- Group `A` is the \\$0.99 price point\n",
    "- Group `B` is the \\$1.99 price point\n",
    "- Group `C` is the \\$4.99 price point"
   ]
  },
  {
   "cell_type": "code",
   "execution_count": 21,
   "metadata": {},
   "outputs": [],
   "source": [
    "# import the binomial test from scipy.stats here\n",
    "from scipy.stats import binom_test"
   ]
  },
  {
   "cell_type": "code",
   "execution_count": 23,
   "metadata": {},
   "outputs": [
    {
     "name": "stdout",
     "output_type": "stream",
     "text": [
      "1666.0\n"
     ]
    },
    {
     "data": {
      "text/plain": [
       "0.2111287299402726"
      ]
     },
     "execution_count": 23,
     "metadata": {},
     "output_type": "execute_result"
    }
   ],
   "source": [
    "# Test group A here\n",
    "n = num_visitors / 3\n",
    "print (n)\n",
    "binom_test(purchase_counts['A']['Purchase'], n, percent_visitors_a)"
   ]
  },
  {
   "cell_type": "code",
   "execution_count": 24,
   "metadata": {},
   "outputs": [
    {
     "data": {
      "text/plain": [
       "0.20660209246555486"
      ]
     },
     "execution_count": 24,
     "metadata": {},
     "output_type": "execute_result"
    }
   ],
   "source": [
    "# Test group B here\n",
    "binom_test(purchase_counts['B']['Purchase'], n, percent_visitors_b)"
   ]
  },
  {
   "cell_type": "code",
   "execution_count": 25,
   "metadata": {},
   "outputs": [
    {
     "data": {
      "text/plain": [
       "0.045623672477172125"
      ]
     },
     "execution_count": 25,
     "metadata": {},
     "output_type": "execute_result"
    }
   ],
   "source": [
    "# Test group C here\n",
    "binom_test(purchase_counts['C']['Purchase'], n, percent_visitors_c)"
   ]
  },
  {
   "cell_type": "markdown",
   "metadata": {},
   "source": [
    "If any of the groups passed the binomial test with $p < 0.05$, then we can be confident that enough people will buy the upgrade package at that price point to justify the feature.\n",
    "\n",
    "Which price point should Brian go with?  Did this surprise you?\n",
    "\n",
    "Brian should go with the price of $4.99 as the p value is less than .05. It means that we're confident that 95 percent of people will buy the microtransaction at price Point C. I was surprised since I was focus on the total number of people who bought it but after statistical analysis I was wrong. This is definitely an interesting project! "
   ]
  },
  {
   "cell_type": "code",
   "execution_count": null,
   "metadata": {},
   "outputs": [],
   "source": []
  }
 ],
 "metadata": {
  "kernelspec": {
   "display_name": "Python 3",
   "language": "python",
   "name": "python3"
  },
  "language_info": {
   "codemirror_mode": {
    "name": "ipython",
    "version": 3
   },
   "file_extension": ".py",
   "mimetype": "text/x-python",
   "name": "python",
   "nbconvert_exporter": "python",
   "pygments_lexer": "ipython3",
   "version": "3.6.5"
  }
 },
 "nbformat": 4,
 "nbformat_minor": 2
}
